{
 "cells": [
  {
   "cell_type": "code",
   "execution_count": 1,
   "metadata": {},
   "outputs": [
    {
     "name": "stdout",
     "output_type": "stream",
     "text": [
      "[2, 4, 1, 57, 43, 83, 43, 25, 70, 81]\n",
      "[0.01, 0.04, 0.0, 0.68, 0.51, 1.0, 0.51, 0.29, 0.84, 0.98]\n"
     ]
    }
   ],
   "source": [
    "#NORMALISATION\n",
    "a = [2,4,1,57,43,83,43,25,70,81]\n",
    "maxi = max(a)\n",
    "mini = min(a)\n",
    "n = []\n",
    "for i in range(len(a)):\n",
    "    temp = (a[i] - mini)/(maxi-mini)\n",
    "    n.append(round(temp,2))\n",
    "print(a)\n",
    "print(n)"
   ]
  },
  {
   "cell_type": "code",
   "execution_count": 29,
   "metadata": {},
   "outputs": [
    {
     "name": "stdout",
     "output_type": "stream",
     "text": [
      "[[1.         0.        ]\n",
      " [0.04166667 0.49494949]\n",
      " [0.47916667 0.04040404]\n",
      " [0.875      0.6969697 ]\n",
      " [0.         1.        ]]\n",
      "100.0\n",
      "8.0\n",
      "50.0\n",
      "88.0\n",
      "4.0\n",
      " \n",
      "0.001\n",
      "0.05\n",
      "0.005\n",
      "0.07\n",
      "0.1\n",
      " \n"
     ]
    }
   ],
   "source": [
    "from numpy import asarray\n",
    "from sklearn.preprocessing import MinMaxScaler\n",
    "data = asarray([[100,0.001],[8,0.05],[50,0.005],[88,0.07],[4,0.1]])\n",
    "scaler = MinMaxScaler()\n",
    "scaled = scaler.fit(data)\n",
    "print(scaled.transform(data))\n",
    "for j in range(len(data[0])):\n",
    "    for i in range(len(data)):\n",
    "        print(data[i][j])\n",
    "    print(\" \")\n"
   ]
  },
  {
   "cell_type": "code",
   "execution_count": 16,
   "metadata": {},
   "outputs": [
    {
     "data": {
      "text/plain": [
       "array([[1.00000000e+00, 1.00000000e-05],\n",
       "       [9.99980469e-01, 6.24987793e-03],\n",
       "       [9.99999995e-01, 9.99999995e-05],\n",
       "       [9.99999684e-01, 7.95454294e-04],\n",
       "       [9.99687646e-01, 2.49921912e-02]])"
      ]
     },
     "execution_count": 16,
     "metadata": {},
     "output_type": "execute_result"
    }
   ],
   "source": [
    "from sklearn.preprocessing import Normalizer\n",
    "transformer = Normalizer().fit(data)\n",
    "transformer.transform(data)"
   ]
  },
  {
   "cell_type": "code",
   "execution_count": 8,
   "metadata": {},
   "outputs": [
    {
     "name": "stdout",
     "output_type": "stream",
     "text": [
      "MODE LIB: 38.57142857142857\n",
      "MEDIUM LIB: 40\n",
      "MODE LIB: 50\n",
      "Varience: 414.2857142857143\n"
     ]
    }
   ],
   "source": [
    "import statistics as st\n",
    "li = [10,20,30,40,50,70,50]\n",
    "print(\"MODE LIB:\",st.mean(li))\n",
    "print(\"MEDIUM LIB:\",st.median(li))\n",
    "print(\"MODE LIB:\",st.mode(li))\n",
    "print(\"Varience:\",st.variance(li))"
   ]
  },
  {
   "cell_type": "code",
   "execution_count": null,
   "metadata": {},
   "outputs": [],
   "source": []
  }
 ],
 "metadata": {
  "kernelspec": {
   "display_name": "Python 3",
   "language": "python",
   "name": "python3"
  },
  "language_info": {
   "codemirror_mode": {
    "name": "ipython",
    "version": 3
   },
   "file_extension": ".py",
   "mimetype": "text/x-python",
   "name": "python",
   "nbconvert_exporter": "python",
   "pygments_lexer": "ipython3",
   "version": "3.7.3"
  }
 },
 "nbformat": 4,
 "nbformat_minor": 2
}
